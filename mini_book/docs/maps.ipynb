{
 "cells": [
  {
   "cell_type": "markdown",
   "metadata": {},
   "source": [
    "# Maps (work in progress)\n",
    "\n",
    "```{warning} \n",
    "Work in progress. This section is still being worked on.\n",
    "```\n",
    "\n",
    "## Should it even be a map?\n",
    "\n",
    "Just because you've got geographic data, doesn't mean that you have to make a map. Many times, there are more efficient storyforms that will get your point across more clearly. If your data shows a very clear geographic trend or if the absolute location of a place or event matters, maps might be the best approach, but sometimes the reflexive impulse to map the data can make you forget that showing the data in another form might answer other—and sometimes more important—questions. Consider using other graphic types when the interesting patterns are not geographic patterns, or when the geographic data is more effective for analysis than for presentation. Many times, a simple bar chart, column chart, scatterplot or table are more effective at translating your research to a reader.\n",
    "\n",
    "In some cases, maps might actually be misleading. State level US maps, for example, give disproportionate weight to states with large land areas, and tend to obscure smaller states in the Northeast. Maps with more granularity can still be misleading. Many times, what appear to be geographic trends are actually directly correlated to population density (wealth, power consumption, etc.), or in some cases directly correlated to some other hidden variable such as racial composition, age distribution, or even weather.\n",
    "Map Projections\n",
    "\n",
    "Depending on the purpose and content, maps should use different projections. US maps for print publication, or use in reports should use the Albers Equal Area projection. Simple interactive county- or state-level maps also use the Albers projection. Zoomable tile-based interactive maps use the Mercator projection.\n",
    "Map Colors\n",
    "\n",
    "Maps should follow the same basic rules as other graphics when it comes to colors. Choropleth maps, or maps that show the magnitude of a variable, should normally use the blue sequential ramp. "
   ]
  },
  {
   "cell_type": "code",
   "execution_count": 3,
   "metadata": {
    "tags": [
     "remove-cell"
    ]
   },
   "outputs": [],
   "source": [
    "# Set up - this cell won't show in the website\n",
    "%run theme.py"
   ]
  },
  {
   "cell_type": "code",
   "execution_count": 4,
   "metadata": {
    "tags": [
     "hide-input"
    ]
   },
   "outputs": [
    {
     "data": {
      "text/html": [
       "\n",
       "<div id=\"altair-viz-a74d0ab9b07a4d3faf19bd6070d7d1c4\"></div>\n",
       "<script type=\"text/javascript\">\n",
       "  (function(spec, embedOpt){\n",
       "    let outputDiv = document.currentScript.previousElementSibling;\n",
       "    if (outputDiv.id !== \"altair-viz-a74d0ab9b07a4d3faf19bd6070d7d1c4\") {\n",
       "      outputDiv = document.getElementById(\"altair-viz-a74d0ab9b07a4d3faf19bd6070d7d1c4\");\n",
       "    }\n",
       "    const paths = {\n",
       "      \"vega\": \"https://cdn.jsdelivr.net/npm//vega@5?noext\",\n",
       "      \"vega-lib\": \"https://cdn.jsdelivr.net/npm//vega-lib?noext\",\n",
       "      \"vega-lite\": \"https://cdn.jsdelivr.net/npm//vega-lite@4.8.1?noext\",\n",
       "      \"vega-embed\": \"https://cdn.jsdelivr.net/npm//vega-embed@6?noext\",\n",
       "    };\n",
       "\n",
       "    function loadScript(lib) {\n",
       "      return new Promise(function(resolve, reject) {\n",
       "        var s = document.createElement('script');\n",
       "        s.src = paths[lib];\n",
       "        s.async = true;\n",
       "        s.onload = () => resolve(paths[lib]);\n",
       "        s.onerror = () => reject(`Error loading script: ${paths[lib]}`);\n",
       "        document.getElementsByTagName(\"head\")[0].appendChild(s);\n",
       "      });\n",
       "    }\n",
       "\n",
       "    function showError(err) {\n",
       "      outputDiv.innerHTML = `<div class=\"error\" style=\"color:red;\">${err}</div>`;\n",
       "      throw err;\n",
       "    }\n",
       "\n",
       "    function displayChart(vegaEmbed) {\n",
       "      vegaEmbed(outputDiv, spec, embedOpt)\n",
       "        .catch(err => showError(`Javascript Error: ${err.message}<br>This usually means there's a typo in your chart specification. See the javascript console for the full traceback.`));\n",
       "    }\n",
       "\n",
       "    if(typeof define === \"function\" && define.amd) {\n",
       "      requirejs.config({paths});\n",
       "      require([\"vega-embed\"], displayChart, err => showError(`Error loading script: ${err.message}`));\n",
       "    } else if (typeof vegaEmbed === \"function\") {\n",
       "      displayChart(vegaEmbed);\n",
       "    } else {\n",
       "      loadScript(\"vega\")\n",
       "        .then(() => loadScript(\"vega-lite\"))\n",
       "        .then(() => loadScript(\"vega-embed\"))\n",
       "        .catch(showError)\n",
       "        .then(() => displayChart(vegaEmbed));\n",
       "    }\n",
       "  })({\"width\": 600, \"height\": 400, \"autosize\": \"pad\", \"config\": {\"padding\": 10, \"geoshape\": {\"fill\": \"#D9D9D6\", \"stroke\": \"#2B3E4B\", \"strokeWidth\": 0.5}, \"arc\": {\"fill\": \"#282828\"}, \"area\": {\"fill\": \"#282828\"}, \"axisBand\": {\"grid\": false}, \"axisBottom\": {\"domain\": false, \"domainColor\": \"black\", \"domainWidth\": 3, \"grid\": true, \"gridColor\": \"#C9C9C9\", \"gridWidth\": 1, \"labelFontSize\": 12, \"labelFont\": \"Helvetica\", \"labelPadding\": 8, \"labelAngle\": 0, \"tickColor\": \"#282828\", \"tickSize\": 10, \"titleFontSize\": 12, \"titlePadding\": 10, \"titleFont\": \"Helvetica\", \"title\": \"\"}, \"axisLeft\": {\"domainColor\": \"#282828\", \"domainWidth\": 1, \"gridColor\": \"#C9C9C9\", \"gridWidth\": 1, \"labelFontSize\": 12, \"labelFont\": \"Helvetica\", \"labelPadding\": 8, \"tickColor\": \"#282828\", \"tickSize\": 10, \"tickCount\": 10, \"ticks\": true, \"titleFontSize\": 14, \"titleFontStyle\": \"italic\", \"titlePadding\": 10, \"titleFont\": \"Helvetica\", \"titleAngle\": 0, \"titleX\": -70, \"titleY\": -18, \"titleAnchor\": \"start\"}, \"axisRight\": {\"domainColor\": \"#282828\", \"domainWidth\": 1, \"gridColor\": \"#C9C9C9\", \"gridWidth\": 1, \"labelFontSize\": 12, \"labelFont\": \"Helvetica\", \"labelPadding\": 4, \"tickColor\": \"#282828\", \"tickSize\": 10, \"ticks\": true, \"titleFontSize\": 12, \"titlePadding\": 10, \"titleFont\": \"Helvetica\"}, \"axisTop\": {\"domain\": false, \"domainColor\": \"black\", \"domainWidth\": 3, \"grid\": true, \"gridColor\": \"#C9C9C9\", \"gridWidth\": 1, \"labelFontSize\": 12, \"labelFont\": \"Helvetica\", \"labelPadding\": 4, \"tickColor\": \"#282828\", \"tickSize\": 10, \"titleFontSize\": 12, \"titlePadding\": 10, \"titleFont\": \"Helvetica\"}, \"background\": \"#FFFEFE\", \"group\": {\"fill\": \"#FFFAFA\"}, \"legend\": {\"labelFontSize\": 12, \"labelFont\": \"Helvetica\", \"labelLimit\": 500, \"padding\": 5, \"symbolSize\": 200, \"symbolType\": \"square\", \"titleFontSize\": 18, \"titlePadding\": 5, \"titleFont\": \"Helvetica\", \"titleLimit\": 400}, \"line\": {\"color\": \"#282828\", \"stroke\": \"#282828\", \"strokeWidth\": 3}, \"rule\": {\"color\": \"#282828\", \"stroke\": \"#282828\", \"strokeWidth\": 3}, \"tick\": {\"color\": \"#282828\", \"stroke\": \"#282828\", \"strokeWidth\": 1}, \"trail\": {\"color\": \"#282828\", \"stroke\": \"#282828\", \"strokeWidth\": 0, \"size\": 5}, \"path\": {\"stroke\": \"#282828\", \"strokeWidth\": 0.5}, \"point\": {\"filled\": true}, \"rect\": {\"fill\": \"#A20C4B\", \"opacity\": 0.3}, \"range\": {\"category\": [\"#dc0d7a\", \"#02a3cd\", \"#e4a100\", \"#dc0d12\", \"#0DDC6F\", \"#074a7e\", \"#e46800\", \"#aa3594\", \"#a20c4b\"], \"diverging\": [\"#dc0d12\", \"#e9686b\", \"#fbe1e1\", \"#dff4f9\", \"#81d1e6\", \"#03a3cd\"], \"heatmap\": [\"#77f9ff\", \"#50dbff\", \"#18bef5\", \"#01a2d8\", \"#0087bb\", \"#006c9e\", \"#005383\"]}, \"symbol\": {\"opacity\": 1, \"shape\": \"circle\", \"size\": 40, \"strokeWidth\": 1}, \"style\": {\"bar\": {\"binSpacing\": 2, \"fill\": \"#282828\", \"stroke\": false}, \"text\": {\"font\": \"Helvetica\", \"fontSize\": 12, \"align\": \"right\", \"fontWeight\": 100, \"size\": 10}}, \"title\": {\"anchor\": \"start\", \"fontSize\": 18, \"fontWeight\": 800, \"font\": \"Helvetica\", \"offset\": 10}, \"view\": {\"stroke\": false, \"padding\": 15}, \"header\": {\"fontWeight\": 400, \"labelFontSize\": 12, \"labelFont\": \"Helvetica\", \"titleFontSize\": 14, \"titleFont\": \"Helvetica\", \"title\": \" \", \"titleBaseline\": \"bottom\", \"titleOffset\": -30}}, \"data\": {\"url\": \"https://cdn.jsdelivr.net/npm/vega-datasets@v1.29.0/data/us-10m.json\", \"format\": {\"feature\": \"counties\", \"type\": \"topojson\"}}, \"mark\": \"geoshape\", \"encoding\": {\"color\": {\"type\": \"quantitative\", \"field\": \"rate\", \"legend\": {\"format\": \"%\", \"title\": \"Rate\"}}}, \"projection\": {\"type\": \"albersUsa\"}, \"title\": \"Unemployment rate in the U.S.\", \"transform\": [{\"lookup\": \"id\", \"from\": {\"data\": {\"url\": \"https://cdn.jsdelivr.net/npm/vega-datasets@v1.29.0/data/unemployment.tsv\"}, \"key\": \"id\", \"fields\": [\"rate\"]}}], \"$schema\": \"https://vega.github.io/schema/vega-lite/v4.8.1.json\"}, {\"mode\": \"vega-lite\"});\n",
       "</script>"
      ],
      "text/plain": [
       "alt.Chart(...)"
      ]
     },
     "execution_count": 4,
     "metadata": {},
     "output_type": "execute_result"
    }
   ],
   "source": [
    "import altair as alt\n",
    "from vega_datasets import data\n",
    "\n",
    "counties = alt.topo_feature(data.us_10m.url, 'counties')\n",
    "source = data.unemployment.url\n",
    "\n",
    "alt.Chart(counties).mark_geoshape().encode(\n",
    "    color=alt.Color('rate:Q', legend = alt.Legend(title = \"Rate\", format = \"%\"))\n",
    ").transform_lookup(\n",
    "    lookup='id',\n",
    "    from_=alt.LookupData(source, 'id', ['rate'])\n",
    ").project(\n",
    "    type='albersUsa'\n",
    ").properties(\n",
    "    title = \"Unemployment rate in the U.S.\",\n",
    "#     width=500,\n",
    "#     height=300\n",
    ")\n"
   ]
  }
 ],
 "metadata": {
  "kernelspec": {
   "display_name": "Python 3",
   "language": "python",
   "name": "python3"
  },
  "language_info": {
   "codemirror_mode": {
    "name": "ipython",
    "version": 3
   },
   "file_extension": ".py",
   "mimetype": "text/x-python",
   "name": "python",
   "nbconvert_exporter": "python",
   "pygments_lexer": "ipython3",
   "version": "3.8.6"
  }
 },
 "nbformat": 4,
 "nbformat_minor": 4
}
