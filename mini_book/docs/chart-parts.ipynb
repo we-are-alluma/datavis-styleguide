{
 "cells": [
  {
   "cell_type": "markdown",
   "metadata": {},
   "source": [
    "# Chart parts (work in progress)\n",
    "\n",
    "```{warning} \n",
    "Work in progress. This section is still being worked on.\n",
    "```\n",
    "\n",
    "```{figure} /_static/images/design-principles-chart-components.png\n",
    "---\n",
    "name: Chart components\n",
    "alt: A deconstructed chart with the name of its parts labeled.\n",
    "---\n",
    "Chart components. Source: handsondataviz.org\n",
    "```"
   ]
  }
 ],
 "metadata": {
  "kernelspec": {
   "display_name": "R",
   "language": "R",
   "name": "ir"
  },
  "language_info": {
   "codemirror_mode": "r",
   "file_extension": ".r",
   "mimetype": "text/x-r-source",
   "name": "R",
   "pygments_lexer": "r",
   "version": "3.6.3"
  }
 },
 "nbformat": 4,
 "nbformat_minor": 4
}
