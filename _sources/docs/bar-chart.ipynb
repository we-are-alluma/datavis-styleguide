{
 "cells": [
  {
   "cell_type": "markdown",
   "metadata": {},
   "source": [
    "# Bar and Column Charts\n",
    "## When to use a (vertical) bar or column chart\n",
    "\n",
    " * Mostly for one variable\n",
    " * To compares numerical values for different observations\n",
    " * To show relative amounts\n",
    " * To break one numerical variable out into different subgroups with grouped or stacked bars or columns\n",
    "\n",
    "## Style tips\n",
    "\n",
    " * Avoid 3D bars or columns\n",
    " * The y-axis should start at zero (there are a few instances when it is okay for the y-axis not to start at zero).\n",
    " * The width of the bars should be about twice the width of the space between the bars.\n",
    " * If all the bars measure the same variable, make them all the same color. Different shades have no relevance to the data.\n",
    " * If you are showing fewer than 10 bars, consider eliminating the horizontal gridlines and y-axis line and directly labeling the data points.\n",
    " * To differentiate subsets of data, projections, or averages, consider using a different color shade or gray.\n",
    " * Legends should be stretched across the top of the chart and the order should match the order in the chart.\n",
    " * Sequential series should be shaded from lightest to darkest for easy comparison."
   ]
  },
  {
   "cell_type": "code",
   "execution_count": 2,
   "metadata": {
    "tags": [
     "remove-cell"
    ]
   },
   "outputs": [],
   "source": [
    "# Set up - this cell won't show in the website\n",
    "%run theme.py"
   ]
  },
  {
   "cell_type": "code",
   "execution_count": 5,
   "metadata": {
    "tags": [
     "hide-input"
    ]
   },
   "outputs": [
    {
     "data": {
      "text/html": [
       "\n",
       "<div id=\"altair-viz-e074274e050c4e419562e4e28017537f\"></div>\n",
       "<script type=\"text/javascript\">\n",
       "  (function(spec, embedOpt){\n",
       "    let outputDiv = document.currentScript.previousElementSibling;\n",
       "    if (outputDiv.id !== \"altair-viz-e074274e050c4e419562e4e28017537f\") {\n",
       "      outputDiv = document.getElementById(\"altair-viz-e074274e050c4e419562e4e28017537f\");\n",
       "    }\n",
       "    const paths = {\n",
       "      \"vega\": \"https://cdn.jsdelivr.net/npm//vega@5?noext\",\n",
       "      \"vega-lib\": \"https://cdn.jsdelivr.net/npm//vega-lib?noext\",\n",
       "      \"vega-lite\": \"https://cdn.jsdelivr.net/npm//vega-lite@4.8.1?noext\",\n",
       "      \"vega-embed\": \"https://cdn.jsdelivr.net/npm//vega-embed@6?noext\",\n",
       "    };\n",
       "\n",
       "    function loadScript(lib) {\n",
       "      return new Promise(function(resolve, reject) {\n",
       "        var s = document.createElement('script');\n",
       "        s.src = paths[lib];\n",
       "        s.async = true;\n",
       "        s.onload = () => resolve(paths[lib]);\n",
       "        s.onerror = () => reject(`Error loading script: ${paths[lib]}`);\n",
       "        document.getElementsByTagName(\"head\")[0].appendChild(s);\n",
       "      });\n",
       "    }\n",
       "\n",
       "    function showError(err) {\n",
       "      outputDiv.innerHTML = `<div class=\"error\" style=\"color:red;\">${err}</div>`;\n",
       "      throw err;\n",
       "    }\n",
       "\n",
       "    function displayChart(vegaEmbed) {\n",
       "      vegaEmbed(outputDiv, spec, embedOpt)\n",
       "        .catch(err => showError(`Javascript Error: ${err.message}<br>This usually means there's a typo in your chart specification. See the javascript console for the full traceback.`));\n",
       "    }\n",
       "\n",
       "    if(typeof define === \"function\" && define.amd) {\n",
       "      requirejs.config({paths});\n",
       "      require([\"vega-embed\"], displayChart, err => showError(`Error loading script: ${err.message}`));\n",
       "    } else if (typeof vegaEmbed === \"function\") {\n",
       "      displayChart(vegaEmbed);\n",
       "    } else {\n",
       "      loadScript(\"vega\")\n",
       "        .then(() => loadScript(\"vega-lite\"))\n",
       "        .then(() => loadScript(\"vega-embed\"))\n",
       "        .catch(showError)\n",
       "        .then(() => displayChart(vegaEmbed));\n",
       "    }\n",
       "  })({\"width\": 600, \"height\": 400, \"autosize\": \"pad\", \"config\": {\"padding\": 10, \"geoshape\": {\"fill\": \"#D9D9D6\", \"stroke\": \"#2B3E4B\", \"strokeWidth\": 0.5}, \"arc\": {\"fill\": \"#282828\"}, \"area\": {\"fill\": \"#282828\"}, \"axisBand\": {\"grid\": false}, \"axisBottom\": {\"domain\": false, \"domainColor\": \"black\", \"domainWidth\": 3, \"grid\": true, \"gridColor\": \"#C9C9C9\", \"gridWidth\": 1, \"labelFontSize\": 12, \"labelFont\": \"Helvetica\", \"labelPadding\": 8, \"labelAngle\": 0, \"tickColor\": \"#282828\", \"tickSize\": 10, \"titleFontSize\": 12, \"titlePadding\": 10, \"titleFont\": \"Helvetica\", \"title\": \"\"}, \"axisLeft\": {\"domainColor\": \"#282828\", \"domainWidth\": 1, \"gridColor\": \"#C9C9C9\", \"gridWidth\": 1, \"labelFontSize\": 12, \"labelFont\": \"Helvetica\", \"labelPadding\": 8, \"tickColor\": \"#282828\", \"tickSize\": 10, \"tickCount\": 10, \"ticks\": true, \"titleFontSize\": 14, \"titleFontStyle\": \"italic\", \"titlePadding\": 10, \"titleFont\": \"Helvetica\", \"titleAngle\": 0, \"titleX\": -70, \"titleY\": -18, \"titleAnchor\": \"start\"}, \"axisRight\": {\"domainColor\": \"#282828\", \"domainWidth\": 1, \"gridColor\": \"#C9C9C9\", \"gridWidth\": 1, \"labelFontSize\": 12, \"labelFont\": \"Helvetica\", \"labelPadding\": 4, \"tickColor\": \"#282828\", \"tickSize\": 10, \"ticks\": true, \"titleFontSize\": 12, \"titlePadding\": 10, \"titleFont\": \"Helvetica\"}, \"axisTop\": {\"domain\": false, \"domainColor\": \"black\", \"domainWidth\": 3, \"grid\": true, \"gridColor\": \"#C9C9C9\", \"gridWidth\": 1, \"labelFontSize\": 12, \"labelFont\": \"Helvetica\", \"labelPadding\": 4, \"tickColor\": \"#282828\", \"tickSize\": 10, \"titleFontSize\": 12, \"titlePadding\": 10, \"titleFont\": \"Helvetica\"}, \"background\": \"#FFFEFE\", \"group\": {\"fill\": \"#FFFAFA\"}, \"legend\": {\"labelFontSize\": 12, \"labelFont\": \"Helvetica\", \"labelLimit\": 500, \"padding\": 5, \"symbolSize\": 200, \"symbolType\": \"square\", \"titleFontSize\": 18, \"titlePadding\": 5, \"titleFont\": \"Helvetica\", \"titleLimit\": 400}, \"line\": {\"color\": \"#282828\", \"stroke\": \"#282828\", \"strokeWidth\": 3}, \"rule\": {\"color\": \"#282828\", \"stroke\": \"#282828\", \"strokeWidth\": 3}, \"tick\": {\"color\": \"#282828\", \"stroke\": \"#282828\", \"strokeWidth\": 1}, \"trail\": {\"color\": \"#282828\", \"stroke\": \"#282828\", \"strokeWidth\": 0, \"size\": 5}, \"path\": {\"stroke\": \"#282828\", \"strokeWidth\": 0.5}, \"point\": {\"filled\": true}, \"rect\": {\"fill\": \"#A20C4B\", \"opacity\": 0.3}, \"range\": {\"category\": [\"#dc0d7a\", \"#02a3cd\", \"#e4a100\", \"#dc0d12\", \"#0DDC6F\", \"#074a7e\", \"#e46800\", \"#aa3594\", \"#a20c4b\"], \"diverging\": [\"#dc0d12\", \"#e9686b\", \"#fbe1e1\", \"#dff4f9\", \"#81d1e6\", \"#03a3cd\"], \"heatmap\": [\"#fff7fd\", \"#ffdbf7\", \"#ffb9ec\", \"#ff91dc\", \"#ff67c7\", \"#f83faf\", \"#ef1d95\", \"#e4007c\"]}, \"symbol\": {\"opacity\": 1, \"shape\": \"circle\", \"size\": 40, \"strokeWidth\": 1}, \"style\": {\"bar\": {\"binSpacing\": 2, \"fill\": \"#282828\", \"stroke\": false}, \"text\": {\"font\": \"Helvetica\", \"fontSize\": 12, \"align\": \"right\", \"fontWeight\": 100, \"size\": 10}}, \"title\": {\"anchor\": \"start\", \"fontSize\": 18, \"fontWeight\": 800, \"font\": \"Helvetica\", \"offset\": 10}, \"view\": {\"stroke\": false, \"padding\": 15}, \"header\": {\"fontWeight\": 400, \"labelFontSize\": 12, \"labelFont\": \"Helvetica\", \"titleFontSize\": 14, \"titleFont\": \"Helvetica\", \"title\": \" \", \"titleBaseline\": \"bottom\", \"titleOffset\": -30}}, \"data\": {\"name\": \"data-c2a3e89ba9d5d1687d5e8c28d630a033\"}, \"mark\": \"bar\", \"encoding\": {\"x\": {\"type\": \"nominal\", \"field\": \"a\"}, \"y\": {\"type\": \"quantitative\", \"field\": \"b\", \"title\": \"Count\"}}, \"title\": \"Column charts are a great way to showcase numerical values for different observations\", \"$schema\": \"https://vega.github.io/schema/vega-lite/v4.8.1.json\", \"datasets\": {\"data-c2a3e89ba9d5d1687d5e8c28d630a033\": [{\"a\": \"A\", \"b\": 28}, {\"a\": \"B\", \"b\": 55}, {\"a\": \"C\", \"b\": 43}, {\"a\": \"D\", \"b\": 91}, {\"a\": \"E\", \"b\": 81}, {\"a\": \"F\", \"b\": 53}, {\"a\": \"G\", \"b\": 19}, {\"a\": \"H\", \"b\": 87}, {\"a\": \"I\", \"b\": 52}]}}, {\"mode\": \"vega-lite\"});\n",
       "</script>"
      ],
      "text/plain": [
       "alt.Chart(...)"
      ]
     },
     "execution_count": 5,
     "metadata": {},
     "output_type": "execute_result"
    }
   ],
   "source": [
    "import altair as alt\n",
    "import pandas as pd\n",
    "\n",
    "source = pd.DataFrame({\n",
    "    'a': ['A', 'B', 'C', 'D', 'E', 'F', 'G', 'H', 'I'],\n",
    "    'b': [28, 55, 43, 91, 81, 53, 19, 87, 52]\n",
    "})\n",
    "\n",
    "alt.Chart(source).mark_bar().encode(\n",
    "    x='a',\n",
    "    y=alt.Y('b', title = \"Count\"),\n",
    ").properties(\n",
    "    title = \"Column charts are a great way to showcase numerical values for different observations\"\n",
    ")"
   ]
  },
  {
   "cell_type": "markdown",
   "metadata": {},
   "source": [
    "\n",
    "## When to use a (horizontal) bar chart\n",
    "\n",
    " * To show the trend in one variable, usually across a number of categories.\n",
    " * To show multiple variables with multiple bars(if they are on the same scale).\n",
    " * To show the same variable for multiple observations with multiple lines.\n",
    "\n",
    "## Style tips\n",
    "\n",
    " * The y-axis should start at zero (there are a few instances when it is okay for the y-axis not to start at zero).\n",
    " * Axis labels should always be horizontal. If you have long labels, consider making a horizontal bar chart instead of a column chart.\n",
    " * When using a horizontal bar chart, right-align the category labels and center them vertically with the respect to the bar.\n",
    " * Try to avoid vertical grid lines. Instead, directly label each bar.\n",
    "\n"
   ]
  },
  {
   "cell_type": "code",
   "execution_count": 8,
   "metadata": {
    "tags": [
     "hide-input"
    ]
   },
   "outputs": [
    {
     "data": {
      "text/html": [
       "\n",
       "<div id=\"altair-viz-72a8368056e847e5b6e61f03d8868d15\"></div>\n",
       "<script type=\"text/javascript\">\n",
       "  (function(spec, embedOpt){\n",
       "    let outputDiv = document.currentScript.previousElementSibling;\n",
       "    if (outputDiv.id !== \"altair-viz-72a8368056e847e5b6e61f03d8868d15\") {\n",
       "      outputDiv = document.getElementById(\"altair-viz-72a8368056e847e5b6e61f03d8868d15\");\n",
       "    }\n",
       "    const paths = {\n",
       "      \"vega\": \"https://cdn.jsdelivr.net/npm//vega@5?noext\",\n",
       "      \"vega-lib\": \"https://cdn.jsdelivr.net/npm//vega-lib?noext\",\n",
       "      \"vega-lite\": \"https://cdn.jsdelivr.net/npm//vega-lite@4.8.1?noext\",\n",
       "      \"vega-embed\": \"https://cdn.jsdelivr.net/npm//vega-embed@6?noext\",\n",
       "    };\n",
       "\n",
       "    function loadScript(lib) {\n",
       "      return new Promise(function(resolve, reject) {\n",
       "        var s = document.createElement('script');\n",
       "        s.src = paths[lib];\n",
       "        s.async = true;\n",
       "        s.onload = () => resolve(paths[lib]);\n",
       "        s.onerror = () => reject(`Error loading script: ${paths[lib]}`);\n",
       "        document.getElementsByTagName(\"head\")[0].appendChild(s);\n",
       "      });\n",
       "    }\n",
       "\n",
       "    function showError(err) {\n",
       "      outputDiv.innerHTML = `<div class=\"error\" style=\"color:red;\">${err}</div>`;\n",
       "      throw err;\n",
       "    }\n",
       "\n",
       "    function displayChart(vegaEmbed) {\n",
       "      vegaEmbed(outputDiv, spec, embedOpt)\n",
       "        .catch(err => showError(`Javascript Error: ${err.message}<br>This usually means there's a typo in your chart specification. See the javascript console for the full traceback.`));\n",
       "    }\n",
       "\n",
       "    if(typeof define === \"function\" && define.amd) {\n",
       "      requirejs.config({paths});\n",
       "      require([\"vega-embed\"], displayChart, err => showError(`Error loading script: ${err.message}`));\n",
       "    } else if (typeof vegaEmbed === \"function\") {\n",
       "      displayChart(vegaEmbed);\n",
       "    } else {\n",
       "      loadScript(\"vega\")\n",
       "        .then(() => loadScript(\"vega-lite\"))\n",
       "        .then(() => loadScript(\"vega-embed\"))\n",
       "        .catch(showError)\n",
       "        .then(() => displayChart(vegaEmbed));\n",
       "    }\n",
       "  })({\"width\": 600, \"height\": 700, \"autosize\": \"pad\", \"config\": {\"padding\": 10, \"geoshape\": {\"fill\": \"#D9D9D6\", \"stroke\": \"#2B3E4B\", \"strokeWidth\": 0.5}, \"arc\": {\"fill\": \"#282828\"}, \"area\": {\"fill\": \"#282828\"}, \"axisBand\": {\"grid\": false}, \"axisBottom\": {\"domain\": false, \"domainColor\": \"black\", \"domainWidth\": 3, \"grid\": true, \"gridColor\": \"#C9C9C9\", \"gridWidth\": 1, \"labelFontSize\": 12, \"labelFont\": \"Helvetica\", \"labelPadding\": 8, \"labelAngle\": 0, \"tickColor\": \"#282828\", \"tickSize\": 10, \"titleFontSize\": 12, \"titlePadding\": 10, \"titleFont\": \"Helvetica\", \"title\": \"\"}, \"axisLeft\": {\"domainColor\": \"#282828\", \"domainWidth\": 1, \"gridColor\": \"#C9C9C9\", \"gridWidth\": 1, \"labelFontSize\": 12, \"labelFont\": \"Helvetica\", \"labelPadding\": 8, \"tickColor\": \"#282828\", \"tickSize\": 10, \"tickCount\": 10, \"ticks\": true, \"titleFontSize\": 14, \"titleFontStyle\": \"italic\", \"titlePadding\": 10, \"titleFont\": \"Helvetica\", \"titleAngle\": 0, \"titleX\": -70, \"titleY\": -18, \"titleAnchor\": \"start\"}, \"axisRight\": {\"domainColor\": \"#282828\", \"domainWidth\": 1, \"gridColor\": \"#C9C9C9\", \"gridWidth\": 1, \"labelFontSize\": 12, \"labelFont\": \"Helvetica\", \"labelPadding\": 4, \"tickColor\": \"#282828\", \"tickSize\": 10, \"ticks\": true, \"titleFontSize\": 12, \"titlePadding\": 10, \"titleFont\": \"Helvetica\"}, \"axisTop\": {\"domain\": false, \"domainColor\": \"black\", \"domainWidth\": 3, \"grid\": true, \"gridColor\": \"#C9C9C9\", \"gridWidth\": 1, \"labelFontSize\": 12, \"labelFont\": \"Helvetica\", \"labelPadding\": 4, \"tickColor\": \"#282828\", \"tickSize\": 10, \"titleFontSize\": 12, \"titlePadding\": 10, \"titleFont\": \"Helvetica\"}, \"background\": \"#FFFEFE\", \"group\": {\"fill\": \"#FFFAFA\"}, \"legend\": {\"labelFontSize\": 12, \"labelFont\": \"Helvetica\", \"labelLimit\": 500, \"padding\": 5, \"symbolSize\": 200, \"symbolType\": \"square\", \"titleFontSize\": 18, \"titlePadding\": 5, \"titleFont\": \"Helvetica\", \"titleLimit\": 400}, \"line\": {\"color\": \"#282828\", \"stroke\": \"#282828\", \"strokeWidth\": 3}, \"rule\": {\"color\": \"#282828\", \"stroke\": \"#282828\", \"strokeWidth\": 3}, \"tick\": {\"color\": \"#282828\", \"stroke\": \"#282828\", \"strokeWidth\": 1}, \"trail\": {\"color\": \"#282828\", \"stroke\": \"#282828\", \"strokeWidth\": 0, \"size\": 5}, \"path\": {\"stroke\": \"#282828\", \"strokeWidth\": 0.5}, \"point\": {\"filled\": true}, \"rect\": {\"fill\": \"#A20C4B\", \"opacity\": 0.3}, \"range\": {\"category\": [\"#dc0d7a\", \"#02a3cd\", \"#e4a100\", \"#dc0d12\", \"#0DDC6F\", \"#074a7e\", \"#e46800\", \"#aa3594\", \"#a20c4b\"], \"diverging\": [\"#dc0d12\", \"#e9686b\", \"#fbe1e1\", \"#dff4f9\", \"#81d1e6\", \"#03a3cd\"], \"heatmap\": [\"#fff7fd\", \"#ffdbf7\", \"#ffb9ec\", \"#ff91dc\", \"#ff67c7\", \"#f83faf\", \"#ef1d95\", \"#e4007c\"]}, \"symbol\": {\"opacity\": 1, \"shape\": \"circle\", \"size\": 40, \"strokeWidth\": 1}, \"style\": {\"bar\": {\"binSpacing\": 2, \"fill\": \"#282828\", \"stroke\": false}, \"text\": {\"font\": \"Helvetica\", \"fontSize\": 12, \"align\": \"right\", \"fontWeight\": 100, \"size\": 10}}, \"title\": {\"anchor\": \"start\", \"fontSize\": 18, \"fontWeight\": 800, \"font\": \"Helvetica\", \"offset\": 10}, \"view\": {\"stroke\": false, \"padding\": 15}, \"header\": {\"fontWeight\": 400, \"labelFontSize\": 12, \"labelFont\": \"Helvetica\", \"titleFontSize\": 14, \"titleFont\": \"Helvetica\", \"title\": \" \", \"titleBaseline\": \"bottom\", \"titleOffset\": -30}}, \"data\": {\"name\": \"data-76d1ce26ea5761007c35827e1564d86c\"}, \"mark\": \"bar\", \"encoding\": {\"x\": {\"type\": \"quantitative\", \"field\": \"wheat\"}, \"y\": {\"type\": \"ordinal\", \"field\": \"year\", \"title\": \"Price of wheat in Scotland\"}}, \"title\": \"Sometimes it is better to display bars horizontally\", \"$schema\": \"https://vega.github.io/schema/vega-lite/v4.8.1.json\", \"datasets\": {\"data-76d1ce26ea5761007c35827e1564d86c\": [{\"year\": 1565, \"wheat\": 41.0, \"wages\": 5.0}, {\"year\": 1570, \"wheat\": 45.0, \"wages\": 5.05}, {\"year\": 1575, \"wheat\": 42.0, \"wages\": 5.08}, {\"year\": 1580, \"wheat\": 49.0, \"wages\": 5.12}, {\"year\": 1585, \"wheat\": 41.5, \"wages\": 5.15}, {\"year\": 1590, \"wheat\": 47.0, \"wages\": 5.25}, {\"year\": 1595, \"wheat\": 64.0, \"wages\": 5.54}, {\"year\": 1600, \"wheat\": 27.0, \"wages\": 5.61}, {\"year\": 1605, \"wheat\": 33.0, \"wages\": 5.69}, {\"year\": 1610, \"wheat\": 32.0, \"wages\": 5.78}, {\"year\": 1615, \"wheat\": 33.0, \"wages\": 5.94}, {\"year\": 1620, \"wheat\": 35.0, \"wages\": 6.01}, {\"year\": 1625, \"wheat\": 33.0, \"wages\": 6.12}, {\"year\": 1630, \"wheat\": 45.0, \"wages\": 6.22}, {\"year\": 1635, \"wheat\": 33.0, \"wages\": 6.3}, {\"year\": 1640, \"wheat\": 39.0, \"wages\": 6.37}, {\"year\": 1645, \"wheat\": 53.0, \"wages\": 6.45}, {\"year\": 1650, \"wheat\": 42.0, \"wages\": 6.5}, {\"year\": 1655, \"wheat\": 40.5, \"wages\": 6.6}, {\"year\": 1660, \"wheat\": 46.5, \"wages\": 6.75}, {\"year\": 1665, \"wheat\": 32.0, \"wages\": 6.8}, {\"year\": 1670, \"wheat\": 37.0, \"wages\": 6.9}, {\"year\": 1675, \"wheat\": 43.0, \"wages\": 7.0}, {\"year\": 1680, \"wheat\": 35.0, \"wages\": 7.3}, {\"year\": 1685, \"wheat\": 27.0, \"wages\": 7.6}, {\"year\": 1690, \"wheat\": 40.0, \"wages\": 8.0}, {\"year\": 1695, \"wheat\": 50.0, \"wages\": 8.5}, {\"year\": 1700, \"wheat\": 30.0, \"wages\": 9.0}, {\"year\": 1705, \"wheat\": 32.0, \"wages\": 10.0}, {\"year\": 1710, \"wheat\": 44.0, \"wages\": 11.0}, {\"year\": 1715, \"wheat\": 33.0, \"wages\": 11.75}, {\"year\": 1720, \"wheat\": 29.0, \"wages\": 12.5}, {\"year\": 1725, \"wheat\": 39.0, \"wages\": 13.0}, {\"year\": 1730, \"wheat\": 26.0, \"wages\": 13.3}, {\"year\": 1735, \"wheat\": 32.0, \"wages\": 13.6}, {\"year\": 1740, \"wheat\": 27.0, \"wages\": 14.0}, {\"year\": 1745, \"wheat\": 27.5, \"wages\": 14.5}, {\"year\": 1750, \"wheat\": 31.0, \"wages\": 15.0}, {\"year\": 1755, \"wheat\": 35.5, \"wages\": 15.7}, {\"year\": 1760, \"wheat\": 31.0, \"wages\": 16.5}, {\"year\": 1765, \"wheat\": 43.0, \"wages\": 17.6}, {\"year\": 1770, \"wheat\": 47.0, \"wages\": 18.5}, {\"year\": 1775, \"wheat\": 44.0, \"wages\": 19.5}, {\"year\": 1780, \"wheat\": 46.0, \"wages\": 21.0}, {\"year\": 1785, \"wheat\": 42.0, \"wages\": 23.0}, {\"year\": 1790, \"wheat\": 47.5, \"wages\": 25.5}, {\"year\": 1795, \"wheat\": 76.0, \"wages\": 27.5}, {\"year\": 1800, \"wheat\": 79.0, \"wages\": 28.5}, {\"year\": 1805, \"wheat\": 81.0, \"wages\": 29.5}, {\"year\": 1810, \"wheat\": 99.0, \"wages\": 30.0}, {\"year\": 1815, \"wheat\": 78.0, \"wages\": null}, {\"year\": 1820, \"wheat\": 54.0, \"wages\": null}]}}, {\"mode\": \"vega-lite\"});\n",
       "</script>"
      ],
      "text/plain": [
       "alt.Chart(...)"
      ]
     },
     "execution_count": 8,
     "metadata": {},
     "output_type": "execute_result"
    }
   ],
   "source": [
    "import altair as alt\n",
    "from vega_datasets import data\n",
    "\n",
    "source = data.wheat()\n",
    "\n",
    "alt.Chart(source).mark_bar().encode(\n",
    "    x=alt.X('wheat:Q'),\n",
    "    y=alt.Y(\"year:O\", title = \"Price of wheat in Scotland\")\n",
    ").properties(\n",
    "    height=700,\n",
    "    title = \"Sometimes it is better to display bars horizontally\"\n",
    ")"
   ]
  }
 ],
 "metadata": {
  "kernelspec": {
   "display_name": "Python 3",
   "language": "python",
   "name": "python3"
  },
  "language_info": {
   "codemirror_mode": {
    "name": "ipython",
    "version": 3
   },
   "file_extension": ".py",
   "mimetype": "text/x-python",
   "name": "python",
   "nbconvert_exporter": "python",
   "pygments_lexer": "ipython3",
   "version": "3.8.5"
  }
 },
 "nbformat": 4,
 "nbformat_minor": 4
}
