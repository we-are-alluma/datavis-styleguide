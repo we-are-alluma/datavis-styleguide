{
 "cells": [
  {
   "cell_type": "markdown",
   "metadata": {},
   "source": [
    "# Cleaning data (work in progress)\n",
    "\n",
    "```{warning} \n",
    "Work in progress. This section is still being worked on.\n",
    "```\n",
    "\n",
    "Cleaning data is an essential part of any data project. "
   ]
  },
  {
   "cell_type": "markdown",
   "metadata": {},
   "source": [
    "***\n",
    "To do:\n",
    "- Missing data\n",
    "- Aggregating data\n",
    "- _Well organized data_ (Notes: one column, one attribute related to tidy-data section)"
   ]
  }
 ],
 "metadata": {
  "kernelspec": {
   "display_name": "Python 3",
   "language": "python",
   "name": "python3"
  },
  "language_info": {
   "codemirror_mode": {
    "name": "ipython",
    "version": 3
   },
   "file_extension": ".py",
   "mimetype": "text/x-python",
   "name": "python",
   "nbconvert_exporter": "python",
   "pygments_lexer": "ipython3",
   "version": "3.8.6"
  }
 },
 "nbformat": 4,
 "nbformat_minor": 4
}
